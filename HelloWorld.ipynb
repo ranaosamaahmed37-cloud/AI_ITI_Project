{
  "nbformat": 4,
  "nbformat_minor": 0,
  "metadata": {
    "colab": {
      "provenance": [],
      "include_colab_link": true
    },
    "kernelspec": {
      "name": "python3",
      "display_name": "Python 3"
    },
    "language_info": {
      "name": "python"
    }
  },
  "cells": [
    {
      "cell_type": "markdown",
      "metadata": {
        "id": "view-in-github",
        "colab_type": "text"
      },
      "source": [
        "<a href=\"https://colab.research.google.com/github/verenaashraf/AI_ITI_Project/blob/main/HelloWorld.ipynb\" target=\"_parent\"><img src=\"https://colab.research.google.com/assets/colab-badge.svg\" alt=\"Open In Colab\"/></a>"
      ]
    },
    {
      "cell_type": "code",
      "execution_count": null,
      "metadata": {
        "colab": {
          "base_uri": "https://localhost:8080/"
        },
        "id": "4816Ylog2VsD",
        "outputId": "08222297-d030-4c36-e8b1-a467b07d8627"
      },
      "outputs": [
        {
          "output_type": "stream",
          "name": "stdout",
          "text": [
            "Hello World from Verena Ashraf\n"
          ]
        }
      ],
      "source": [
        "Student1=\"Verena Ashraf\"\n",
        "print(f\"Hello World from {Student1}\")"
      ]
    },
    {
      "cell_type": "code",
      "source": [
        "Std=\"Abdullah Mahmoud\"\n",
        "print(f\"Hello World from {Std}\")"
      ],
      "metadata": {
        "id": "O3-5eiQTNjg3",
        "outputId": "1dad455e-a0de-4160-b89c-8f386a21cc4a",
        "colab": {
          "base_uri": "https://localhost:8080/"
        }
      },
      "execution_count": 1,
      "outputs": [
        {
          "output_type": "stream",
          "name": "stdout",
          "text": [
            "Hello World from Abdullah Mahmoud\n"
          ]
        }
      ]
    }
  ]
}