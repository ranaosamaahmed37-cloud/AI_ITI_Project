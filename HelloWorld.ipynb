{
  "nbformat": 4,
  "nbformat_minor": 0,
  "metadata": {
    "colab": {
      "provenance": [],
      "include_colab_link": true
    },
    "kernelspec": {
      "name": "python3",
      "display_name": "Python 3"
    },
    "language_info": {
      "name": "python"
    }
  },
  "cells": [
    {
      "cell_type": "markdown",
      "metadata": {
        "id": "view-in-github",
        "colab_type": "text"
      },
      "source": [
        "<a href=\"https://colab.research.google.com/github/verenaashraf/AI_ITI_Project/blob/main/HelloWorld.ipynb\" target=\"_parent\"><img src=\"https://colab.research.google.com/assets/colab-badge.svg\" alt=\"Open In Colab\"/></a>"
      ]
    },
    {
      "cell_type": "code",
      "execution_count": null,
      "metadata": {
        "colab": {
          "base_uri": "https://localhost:8080/"
        },
        "id": "4816Ylog2VsD",
        "outputId": "08222297-d030-4c36-e8b1-a467b07d8627"
      },
      "outputs": [
        {
          "output_type": "stream",
          "name": "stdout",
          "text": [
            "Hello World from Verena Ashraf\n"
          ]
        }
      ],
      "source": [
        "Student1=\"Verena Ashraf\"\n",
        "print(f\"Hello World from {Student1}\")"
      ]
    },
    {
      "cell_type": "code",
      "source": [
        "Student2=\"mahmoud yasser osman\"\n",
        "print(f\"Hello World from {Student2}\")"
      ],
      "metadata": {
        "id": "gGD2lgZSlsAC",
        "outputId": "52405ddf-9976-4d21-a399-01bd2740d0bd",
        "colab": {
          "base_uri": "https://localhost:8080/"
        }
      },
      "execution_count": 1,
      "outputs": [
        {
          "output_type": "stream",
          "name": "stdout",
          "text": [
            "Hello World from mahmoud yasser osman\n"
          ]
        }
      ]
    },
    {
      "cell_type": "code",
      "source": [],
      "metadata": {
        "id": "ZnA2cDzwl9UH"
      },
      "execution_count": null,
      "outputs": []
    }
  ]
}